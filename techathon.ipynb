{
 "cells": [
  {
   "cell_type": "code",
   "execution_count": 1,
   "metadata": {},
   "outputs": [],
   "source": [
    "import os"
   ]
  },
  {
   "cell_type": "code",
   "execution_count": 2,
   "metadata": {},
   "outputs": [
    {
     "data": {
      "text/plain": [
       "'C:\\\\Users\\\\Mr.vishnu\\\\Downloads'"
      ]
     },
     "execution_count": 2,
     "metadata": {},
     "output_type": "execute_result"
    }
   ],
   "source": [
    "os.getcwd()"
   ]
  },
  {
   "cell_type": "code",
   "execution_count": 3,
   "metadata": {},
   "outputs": [],
   "source": [
    "os.chdir(\"C://Users//Mr.vishnu//FFmpeg//ffmpeg-20181007-0a41a8b-win64-static//bin\")"
   ]
  },
  {
   "cell_type": "code",
   "execution_count": 4,
   "metadata": {},
   "outputs": [
    {
     "data": {
      "text/plain": [
       "'C:\\\\Users\\\\Mr.vishnu\\\\FFmpeg\\\\ffmpeg-20181007-0a41a8b-win64-static\\\\bin'"
      ]
     },
     "execution_count": 4,
     "metadata": {},
     "output_type": "execute_result"
    }
   ],
   "source": [
    "os.getcwd()"
   ]
  },
  {
   "cell_type": "code",
   "execution_count": 5,
   "metadata": {},
   "outputs": [
    {
     "data": {
      "text/plain": [
       "['exple.mp3',\n",
       " 'exple.mp4',\n",
       " 'exple.wav',\n",
       " 'ffmpeg.exe',\n",
       " 'ffplay.exe',\n",
       " 'ffprobe.exe',\n",
       " 'output',\n",
       " 'result.bat']"
      ]
     },
     "execution_count": 5,
     "metadata": {},
     "output_type": "execute_result"
    }
   ],
   "source": [
    "os.listdir(\"./\")"
   ]
  },
  {
   "cell_type": "code",
   "execution_count": 6,
   "metadata": {},
   "outputs": [
    {
     "data": {
      "text/plain": [
       "['exple.mp3',\n",
       " 'exple.mp4',\n",
       " 'exple.wav',\n",
       " 'ffmpeg.exe',\n",
       " 'ffplay.exe',\n",
       " 'ffprobe.exe',\n",
       " 'output',\n",
       " 'result.bat']"
      ]
     },
     "execution_count": 6,
     "metadata": {},
     "output_type": "execute_result"
    }
   ],
   "source": [
    "os.listdir(\"./\")"
   ]
  },
  {
   "cell_type": "code",
   "execution_count": 7,
   "metadata": {},
   "outputs": [],
   "source": [
    "def main():\n",
    "    files = os.listdir(\"./\")\n",
    "    for f in files:\n",
    "        if f.lower()[-3:]==\"mp4\":\n",
    "            print(\"processing\",f)*9\n",
    "            process(f)"
   ]
  },
  {
   "cell_type": "code",
   "execution_count": 8,
   "metadata": {},
   "outputs": [],
   "source": [
    "global inFile\n",
    "global outFile\n",
    "def process(f):\n",
    "    global inFile\n",
    "    global outFile\n",
    "    inFile = f\n",
    "    outFile = f[:-3]+\"mp3\"\n",
    "    cmd = \"ffmpeg -i {} -vn -ac 2 -ar 44100 -ab 320k -f mp3 {}\" . format(inFile,outFile)\n",
    "    os.popen(cmd)"
   ]
  },
  {
   "cell_type": "code",
   "execution_count": 9,
   "metadata": {},
   "outputs": [
    {
     "name": "stdout",
     "output_type": "stream",
     "text": [
      "processing exple.mp4\n"
     ]
    }
   ],
   "source": [
    "main()"
   ]
  },
  {
   "cell_type": "code",
   "execution_count": 10,
   "metadata": {},
   "outputs": [],
   "source": [
    "def program():\n",
    "    files = os.listdir(\"./\")\n",
    "    for f in files:\n",
    "        if f.lower()[-3:]==\"mp3\":\n",
    "            print(\"processing\",f)\n",
    "            mp3_wav(f)"
   ]
  },
  {
   "cell_type": "code",
   "execution_count": 11,
   "metadata": {},
   "outputs": [],
   "source": [
    "def mp3_wav(f):\n",
    "    inFile = f\n",
    "    outFile = f[:-3]+\"wav\"\n",
    "    res = \"ffmpeg -i {} {}\".format(inFile,outFile)\n",
    "    os.popen(res)"
   ]
  },
  {
   "cell_type": "code",
   "execution_count": 12,
   "metadata": {},
   "outputs": [
    {
     "name": "stdout",
     "output_type": "stream",
     "text": [
      "processing exple.mp3\n"
     ]
    }
   ],
   "source": [
    "program()"
   ]
  },
  {
   "cell_type": "code",
   "execution_count": 13,
   "metadata": {},
   "outputs": [],
   "source": [
    "import speech_recognition as sr"
   ]
  },
  {
   "cell_type": "code",
   "execution_count": 14,
   "metadata": {},
   "outputs": [],
   "source": [
    "r = sr.Recognizer()"
   ]
  },
  {
   "cell_type": "code",
   "execution_count": 17,
   "metadata": {},
   "outputs": [
    {
     "name": "stdout",
     "output_type": "stream",
     "text": [
      "pass the path of the required .wav fileC:\\Users\\Mr.vishnu\\FFmpeg\\ffmpeg-20181007-0a41a8b-win64-static\\bin\\exple.wav\n"
     ]
    }
   ],
   "source": [
    "inp = input(\"pass the path of the required .wav file\")"
   ]
  },
  {
   "cell_type": "code",
   "execution_count": 18,
   "metadata": {},
   "outputs": [
    {
     "data": {
      "text/plain": [
       "'C:\\\\Users\\\\Mr.vishnu\\\\FFmpeg\\\\ffmpeg-20181007-0a41a8b-win64-static\\\\bin\\\\exple.wav'"
      ]
     },
     "execution_count": 18,
     "metadata": {},
     "output_type": "execute_result"
    }
   ],
   "source": [
    "inp"
   ]
  },
  {
   "cell_type": "code",
   "execution_count": 19,
   "metadata": {},
   "outputs": [],
   "source": [
    "harvard = sr.AudioFile(inp)"
   ]
  },
  {
   "cell_type": "code",
   "execution_count": 20,
   "metadata": {},
   "outputs": [],
   "source": [
    "with harvard as source:\n",
    "    audio = r.record(source)"
   ]
  },
  {
   "cell_type": "code",
   "execution_count": 21,
   "metadata": {},
   "outputs": [
    {
     "data": {
      "text/plain": [
       "speech_recognition.AudioData"
      ]
     },
     "execution_count": 21,
     "metadata": {},
     "output_type": "execute_result"
    }
   ],
   "source": [
    "type(audio)"
   ]
  },
  {
   "cell_type": "code",
   "execution_count": 22,
   "metadata": {},
   "outputs": [],
   "source": [
    "text = r.recognize_google(audio)"
   ]
  },
  {
   "cell_type": "code",
   "execution_count": 23,
   "metadata": {},
   "outputs": [
    {
     "data": {
      "text/plain": [
       "\"hi uncle city and you watching this I'm interested in this video we can do for you and why you should do so\""
      ]
     },
     "execution_count": 23,
     "metadata": {},
     "output_type": "execute_result"
    }
   ],
   "source": [
    "text"
   ]
  },
  {
   "cell_type": "code",
   "execution_count": 24,
   "metadata": {},
   "outputs": [
    {
     "name": "stdout",
     "output_type": "stream",
     "text": [
      "Press p to translate Eng to Pyglatin\n",
      "Press e to translate PygLatin to Eng\n",
      "Press hi for hindi\n",
      "Press zh for chinese\n",
      "Press kn for kannada\n",
      "Press te for telugu\n",
      "Press de for german\n",
      "Press ar for arabic \n",
      "Press ro for rome\n",
      "Press ru for russian \n",
      "Press en for english te\n",
      "హాయ్ మామ నగరం మరియు మీరు దీన్ని చూస్తున్నప్పుడు నేను మీ కోసం చేయగలిగే ఈ వీడియోపై నాకు ఆసక్తి ఉంది మరియు మీరు ఎందుకు అలా చేయాలి\n"
     ]
    }
   ],
   "source": [
    "import os\n",
    "import tempfile\n",
    "import subprocess\n",
    "from translate import Translator\n",
    "\n",
    "another_word = \" \"\n",
    "sentence = \" \"\n",
    "new_list = [ ]\n",
    "\n",
    "def trans(choice):\n",
    "    global translation\n",
    "    \n",
    "    translator= Translator(to_lang=choice)\n",
    "    \n",
    "    string = text\n",
    "    translation= translator.translate(string)\n",
    "    print(translation)\n",
    "\n",
    "'''def gertoeng(choice):\n",
    "    global translation\n",
    "    translator= Translator(to_lang=choice)\n",
    "    string=ocr(\"C:/Users/Public/Data/txtger.txt\")\n",
    "    translation= translator.translate(string)\n",
    "    print(translation)'''\n",
    "\n",
    "def global_reset(): #I had to do this function to reset the variables  because it kept adding the last sentence to the current sentence\n",
    "    global sentence\n",
    "    sentence = \" \"\n",
    "    global new_list\n",
    "    new_list = [ ]\n",
    "    global another_word\n",
    "    another_word = \" \"\n",
    "\n",
    "\n",
    "\n",
    "#function to start the whole program over again if user wants to translate a new sentence\n",
    "\n",
    "def pyg_to_eng (i):\n",
    "    global another_word\n",
    "\n",
    "\n",
    "    original = (i)\n",
    "\n",
    "    if len(original) > 0 and original.isalpha():\n",
    "        word = original.lower()\n",
    "        first = word[-3] #sets the last letter of the word minus the ay to the variable first\n",
    "        word = word [0:-3] #sets the whole word minus the first letter and the ay to the variable word\n",
    "        another_word = first + word #saves the first letter + the rest of the word to the variable snother_word\n",
    "        return another_word #returns another_word to the input_state() function to be added to the sentence list\n",
    "    #else:\n",
    "     #   print('empty')\n",
    "\n",
    "#input function to translate a sentence from PygLatin to English\n",
    "def input_state2():\n",
    "    global string\n",
    "    global translation\n",
    "    #string = ocr(\"C:/Users/Public/Data/test.txt\")\n",
    "    string = text\n",
    "    #sentence = input(\"enter a word to be translated: \")\n",
    "    list = string.split()\n",
    "    for i in list: #for statement to cycle through each PygLatin word and translate it to English\n",
    "        pyg_to_eng(i) #called the function to translate PygLatin to english for each word in the sentence.\n",
    "        new_list.append(another_word) #appends each translated word to a list\n",
    "    s = \" \"\n",
    "    translation = s.join( new_list )\n",
    "    print (translation)#s.join( new_list )) #rejoins the list into a single sentence\n",
    "    #again() #function to ask if they would like to trans another sentence.\n",
    "\n",
    "\n",
    "\n",
    "\n",
    "#function that translates English to PygLatin one word at a time\n",
    "def eng_to_pyg (i):\n",
    "    global another_word #global because it argued with me when I tried to do it without it being a global\n",
    "    pyg = 'ay'\n",
    "\n",
    "    original = (i)\n",
    "\n",
    "    if len(original) > 0 and original.isalpha():\n",
    "        word = original.lower()\n",
    "        first = word[0] #saves first letter to variable\n",
    "        new_word = word + first + pyg #seves word minus first letter then adds first letter and ay to the end of a single word\n",
    "        another_word = new_word[1:len(new_word)] #deletes the first letter from the first of the word\n",
    "        return another_word #returns another_word to the input_state() function to be assembled back to a sentence.\n",
    "    #else:\n",
    "     #   print('empty')\n",
    "\n",
    "#input function to capture an English sentence and translate it to PygLatin\n",
    "def input_state():\n",
    "    global string\n",
    "    global translation\n",
    "    #sentence = input(\"enter a word to be translated: \") #collects sentence to be translated to PygLatin\n",
    "    #string = ocr(\"C:/Users/Public/Data/test.txt\") \n",
    "    string = text\n",
    "    list = string.split()\n",
    "    #print(list)\n",
    "    for i in list: #for statement to cycle through each word in the English sentence and translate them to PygLatin\n",
    "        eng_to_pyg(i) #function call to translate each word from English to PygLatin\n",
    "        new_list.append(another_word) #appends each word to a list after it is translated\n",
    "    s = \" \"\n",
    "    translation =s.join( new_list ) #reasembles the list into a sentence\n",
    "    print(translation)\n",
    "    #again() #function to ask if they would like to trans another sentence.\n",
    "\n",
    "def choice(): #gives user option to translate from PygLatin to English or from English to Pyglatin\n",
    "    choice = input(\"Press p to translate Eng to Pyglatin\\nPress e to translate PygLatin to Eng\\nPress hi for hindi\\nPress zh for chinese\\nPress kn for kannada\\nPress te for telugu\\nPress de for german\\nPress ar for arabic \\nPress ro for rome\\nPress ru for russian \\nPress en for english \")\n",
    "    '''if choice == 'P' or choice == 'p': #option for the user to translate     English to PygLatin\n",
    "        global_reset()\n",
    "        input_state()\n",
    "    elif choice == 'E' or choice == 'e': #option for user to translate PygLatin to English\n",
    "        global_reset()\n",
    "        input_state2()'''\n",
    "    #for case in switch(choice):\n",
    "    '''\n",
    "    if choice =='p':\n",
    "        global_reset()\n",
    "        input_state()\n",
    "    elif choice == 'e':\n",
    "        global_reset()\n",
    "        input_state2()\n",
    "    '''\n",
    "    if choice == 'en':\n",
    "        trans('en')\n",
    "    elif choice=='zh':\n",
    "        trans('zh')\n",
    "    elif choice=='kn':\n",
    "        trans('kn')\n",
    "    elif choice=='te':\n",
    "        trans('te')\n",
    "    elif choice=='ar':\n",
    "        trans('ar')\n",
    "    elif choice=='hi':\n",
    "        trans('hi')\n",
    "    elif choice=='de':\n",
    "        trans('de')\n",
    "    elif choice=='ro':\n",
    "        trans('ro')\n",
    "    elif choice=='ru':\n",
    "        trans('ru')\n",
    "    elif choice=='en':\n",
    "        gertoeng('en')\n",
    "    else: # default, could also just omit condition or 'if True'\n",
    "        print(\"select valid translation!\")\n",
    "\n",
    "choice()\n",
    "\n"
   ]
  },
  {
   "cell_type": "code",
   "execution_count": 25,
   "metadata": {},
   "outputs": [
    {
     "name": "stdout",
     "output_type": "stream",
     "text": [
      "హాయ్ మామ నగరం మరియు మీరు దీన్ని చూస్తున్నప్పుడు నేను మీ కోసం చేయగలిగే ఈ వీడియోపై నాకు ఆసక్తి ఉంది మరియు మీరు ఎందుకు అలా చేయాలి\n"
     ]
    }
   ],
   "source": [
    "import pyttsx3\n",
    "global translation\n",
    "engine = pyttsx3.init()\n",
    "\n",
    "engine.say(translation)\n",
    "print(translation)\n",
    "engine.runAndWait()"
   ]
  },
  {
   "cell_type": "code",
   "execution_count": null,
   "metadata": {},
   "outputs": [],
   "source": []
  }
 ],
 "metadata": {
  "kernelspec": {
   "display_name": "Python 3",
   "language": "python",
   "name": "python3"
  },
  "language_info": {
   "codemirror_mode": {
    "name": "ipython",
    "version": 3
   },
   "file_extension": ".py",
   "mimetype": "text/x-python",
   "name": "python",
   "nbconvert_exporter": "python",
   "pygments_lexer": "ipython3",
   "version": "3.7.3"
  }
 },
 "nbformat": 4,
 "nbformat_minor": 2
}
